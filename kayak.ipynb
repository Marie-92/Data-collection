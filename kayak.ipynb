{
  "cells": [
    {
      "cell_type": "markdown",
      "metadata": {
        "id": "vaczogE9FTjh"
      },
      "source": [
        "# 🧳 Plan your trip with Kayak 🧳\n",
        "The marketing team needs help on a new project. After doing some user research, the team discovered that 70% of their users who are planning a trip would like to have more information about the destination they are going to.\n",
        "\n",
        "In addition, user research shows that people tend to be defiant about the information they are reading if they don't know the brand which produced the content.\n",
        "\n",
        "Therefore, Kayak Marketing Team would like to create an application that will recommend where people should plan their next holidays. The application should be based on real data about:\n",
        "\n",
        "* Weather\n",
        "* Hotels in the area\n",
        "* The application should then be able to recommend the best destinations and hotels based on the above variables at any given time.\n",
        "\n",
        "## 🎯 Goals \n",
        "As the project has just started, your team doesn't have any data that can be used to create this application. Therefore, your job will be to:\n",
        "\n",
        "* Scrape data from destinations\n",
        "* Get weather data from each destination\n",
        "* Get hotels' info about each destination\n",
        "* Store all the information above in a data lake\n",
        "* Extract, transform and load cleaned data from your datalake to a data warehouse\n",
        "\n",
        "## 📚 Imports"
      ]
    },
    {
      "cell_type": "code",
      "execution_count": null,
      "metadata": {
        "id": "opFgnbHQFTj3"
      },
      "outputs": [],
      "source": [
        "import os \n",
        "import logging\n",
        "import scrapy\n",
        "from scrapy.crawler import CrawlerProcess\n",
        "import requests\n",
        "import pandas as pd\n",
        "import json\n",
        "import numpy as np\n",
        "import warnings\n",
        "warnings.filterwarnings(\"ignore\")"
      ]
    },
    {
      "cell_type": "markdown",
      "metadata": {
        "id": "N1t2l0kGFTj7"
      },
      "source": [
        "## 🌧️ Get weather data with an API\n",
        "Marketing team wants to focus first on the best cities to travel to in France. According One Week In.com here are the top-35 cities to visit in France :"
      ]
    },
    {
      "cell_type": "code",
      "execution_count": null,
      "metadata": {
        "id": "ZHAy3vytFTj9"
      },
      "outputs": [],
      "source": [
        "cities = [\"Mont Saint Michel\", \"St Malo\", \"Bayeux\", \"Le Havre\", \"Rouen\", \"Paris\", \"Amiens\", \"Lille\", \"Strasbourg\", \"Chateau du Haut Koenigsbourg\",\n",
        "\"Colmar\", \"Eguisheim\", \"Besancon\", \"Dijon\", \"Annecy\", \"Grenoble\", \"Lyon\", \"Gorges du Verdon\", \"Bormes les Mimosas\", \"Cassis\", \"Marseille\", \"Aix en Provence\",\n",
        "\"Avignon\", \"Uzes\", \"Nimes\", \"Aigues Mortes\", \"Saintes Maries de la mer\", \"Collioure\", \"Carcassonne\", \"Ariege\", \"Toulouse\", \"Montauban\", \"Biarritz\",\n",
        "\"Bayonne\", \"La Rochelle\"]"
      ]
    },
    {
      "cell_type": "markdown",
      "metadata": {
        "id": "bKNpBjP5FTkA"
      },
      "source": [
        "Creating our own dataframe using two APIs : the first one for each city's location and the other one for the weather predictions :"
      ]
    },
    {
      "cell_type": "code",
      "execution_count": null,
      "metadata": {
        "id": "s8Ls7vBRFTkB",
        "outputId": "d2088b44-9ad2-4ae1-bdf4-aa6492f1a415"
      },
      "outputs": [
        {
          "data": {
            "text/html": [
              "<div>\n",
              "<style scoped>\n",
              "    .dataframe tbody tr th:only-of-type {\n",
              "        vertical-align: middle;\n",
              "    }\n",
              "\n",
              "    .dataframe tbody tr th {\n",
              "        vertical-align: top;\n",
              "    }\n",
              "\n",
              "    .dataframe thead th {\n",
              "        text-align: right;\n",
              "    }\n",
              "</style>\n",
              "<table border=\"1\" class=\"dataframe\">\n",
              "  <thead>\n",
              "    <tr style=\"text-align: right;\">\n",
              "      <th></th>\n",
              "      <th>city</th>\n",
              "      <th>lat_city</th>\n",
              "      <th>lon_city</th>\n",
              "      <th>sum_pop</th>\n",
              "    </tr>\n",
              "  </thead>\n",
              "  <tbody>\n",
              "    <tr>\n",
              "      <th>0</th>\n",
              "      <td>Mont Saint Michel</td>\n",
              "      <td>48.635954</td>\n",
              "      <td>-1.511460</td>\n",
              "      <td>10.91</td>\n",
              "    </tr>\n",
              "    <tr>\n",
              "      <th>1</th>\n",
              "      <td>St Malo</td>\n",
              "      <td>48.649518</td>\n",
              "      <td>-2.026041</td>\n",
              "      <td>11.93</td>\n",
              "    </tr>\n",
              "    <tr>\n",
              "      <th>2</th>\n",
              "      <td>Bayeux</td>\n",
              "      <td>49.276462</td>\n",
              "      <td>-0.702474</td>\n",
              "      <td>8.61</td>\n",
              "    </tr>\n",
              "    <tr>\n",
              "      <th>3</th>\n",
              "      <td>Le Havre</td>\n",
              "      <td>49.493898</td>\n",
              "      <td>0.107973</td>\n",
              "      <td>8.40</td>\n",
              "    </tr>\n",
              "    <tr>\n",
              "      <th>4</th>\n",
              "      <td>Rouen</td>\n",
              "      <td>49.440459</td>\n",
              "      <td>1.093966</td>\n",
              "      <td>7.78</td>\n",
              "    </tr>\n",
              "    <tr>\n",
              "      <th>5</th>\n",
              "      <td>Paris</td>\n",
              "      <td>48.858890</td>\n",
              "      <td>2.320041</td>\n",
              "      <td>6.07</td>\n",
              "    </tr>\n",
              "    <tr>\n",
              "      <th>6</th>\n",
              "      <td>Amiens</td>\n",
              "      <td>49.894171</td>\n",
              "      <td>2.295695</td>\n",
              "      <td>6.41</td>\n",
              "    </tr>\n",
              "    <tr>\n",
              "      <th>7</th>\n",
              "      <td>Lille</td>\n",
              "      <td>50.636565</td>\n",
              "      <td>3.063528</td>\n",
              "      <td>6.43</td>\n",
              "    </tr>\n",
              "    <tr>\n",
              "      <th>8</th>\n",
              "      <td>Strasbourg</td>\n",
              "      <td>48.584614</td>\n",
              "      <td>7.750713</td>\n",
              "      <td>5.36</td>\n",
              "    </tr>\n",
              "    <tr>\n",
              "      <th>9</th>\n",
              "      <td>Chateau du Haut Koenigsbourg</td>\n",
              "      <td>48.249490</td>\n",
              "      <td>7.344296</td>\n",
              "      <td>5.97</td>\n",
              "    </tr>\n",
              "    <tr>\n",
              "      <th>10</th>\n",
              "      <td>Colmar</td>\n",
              "      <td>48.077752</td>\n",
              "      <td>7.357964</td>\n",
              "      <td>6.56</td>\n",
              "    </tr>\n",
              "    <tr>\n",
              "      <th>11</th>\n",
              "      <td>Eguisheim</td>\n",
              "      <td>48.044797</td>\n",
              "      <td>7.307962</td>\n",
              "      <td>6.61</td>\n",
              "    </tr>\n",
              "    <tr>\n",
              "      <th>12</th>\n",
              "      <td>Besancon</td>\n",
              "      <td>47.238022</td>\n",
              "      <td>6.024362</td>\n",
              "      <td>7.15</td>\n",
              "    </tr>\n",
              "    <tr>\n",
              "      <th>13</th>\n",
              "      <td>Dijon</td>\n",
              "      <td>47.321581</td>\n",
              "      <td>5.041470</td>\n",
              "      <td>3.63</td>\n",
              "    </tr>\n",
              "    <tr>\n",
              "      <th>14</th>\n",
              "      <td>Annecy</td>\n",
              "      <td>45.899235</td>\n",
              "      <td>6.128885</td>\n",
              "      <td>9.12</td>\n",
              "    </tr>\n",
              "    <tr>\n",
              "      <th>15</th>\n",
              "      <td>Grenoble</td>\n",
              "      <td>45.187560</td>\n",
              "      <td>5.735782</td>\n",
              "      <td>8.02</td>\n",
              "    </tr>\n",
              "    <tr>\n",
              "      <th>16</th>\n",
              "      <td>Lyon</td>\n",
              "      <td>45.757814</td>\n",
              "      <td>4.832011</td>\n",
              "      <td>6.47</td>\n",
              "    </tr>\n",
              "    <tr>\n",
              "      <th>17</th>\n",
              "      <td>Gorges du Verdon</td>\n",
              "      <td>43.749656</td>\n",
              "      <td>6.328562</td>\n",
              "      <td>3.47</td>\n",
              "    </tr>\n",
              "    <tr>\n",
              "      <th>18</th>\n",
              "      <td>Bormes les Mimosas</td>\n",
              "      <td>43.150697</td>\n",
              "      <td>6.341928</td>\n",
              "      <td>4.43</td>\n",
              "    </tr>\n",
              "    <tr>\n",
              "      <th>19</th>\n",
              "      <td>Cassis</td>\n",
              "      <td>43.214036</td>\n",
              "      <td>5.539632</td>\n",
              "      <td>2.72</td>\n",
              "    </tr>\n",
              "    <tr>\n",
              "      <th>20</th>\n",
              "      <td>Marseille</td>\n",
              "      <td>43.296174</td>\n",
              "      <td>5.369953</td>\n",
              "      <td>2.46</td>\n",
              "    </tr>\n",
              "    <tr>\n",
              "      <th>21</th>\n",
              "      <td>Aix en Provence</td>\n",
              "      <td>43.529842</td>\n",
              "      <td>5.447474</td>\n",
              "      <td>2.82</td>\n",
              "    </tr>\n",
              "    <tr>\n",
              "      <th>22</th>\n",
              "      <td>Avignon</td>\n",
              "      <td>43.949249</td>\n",
              "      <td>4.805901</td>\n",
              "      <td>2.88</td>\n",
              "    </tr>\n",
              "    <tr>\n",
              "      <th>23</th>\n",
              "      <td>Uzes</td>\n",
              "      <td>44.012128</td>\n",
              "      <td>4.419672</td>\n",
              "      <td>6.13</td>\n",
              "    </tr>\n",
              "    <tr>\n",
              "      <th>24</th>\n",
              "      <td>Nimes</td>\n",
              "      <td>43.837425</td>\n",
              "      <td>4.360069</td>\n",
              "      <td>5.77</td>\n",
              "    </tr>\n",
              "    <tr>\n",
              "      <th>25</th>\n",
              "      <td>Aigues Mortes</td>\n",
              "      <td>43.565823</td>\n",
              "      <td>4.191284</td>\n",
              "      <td>7.25</td>\n",
              "    </tr>\n",
              "    <tr>\n",
              "      <th>26</th>\n",
              "      <td>Saintes Maries de la mer</td>\n",
              "      <td>43.452277</td>\n",
              "      <td>4.428717</td>\n",
              "      <td>5.65</td>\n",
              "    </tr>\n",
              "    <tr>\n",
              "      <th>27</th>\n",
              "      <td>Collioure</td>\n",
              "      <td>42.525050</td>\n",
              "      <td>3.083155</td>\n",
              "      <td>4.53</td>\n",
              "    </tr>\n",
              "    <tr>\n",
              "      <th>28</th>\n",
              "      <td>Carcassonne</td>\n",
              "      <td>43.213036</td>\n",
              "      <td>2.349107</td>\n",
              "      <td>3.56</td>\n",
              "    </tr>\n",
              "    <tr>\n",
              "      <th>29</th>\n",
              "      <td>Ariege</td>\n",
              "      <td>42.945537</td>\n",
              "      <td>1.406554</td>\n",
              "      <td>4.11</td>\n",
              "    </tr>\n",
              "    <tr>\n",
              "      <th>30</th>\n",
              "      <td>Toulouse</td>\n",
              "      <td>43.604462</td>\n",
              "      <td>1.444247</td>\n",
              "      <td>3.86</td>\n",
              "    </tr>\n",
              "    <tr>\n",
              "      <th>31</th>\n",
              "      <td>Montauban</td>\n",
              "      <td>44.017584</td>\n",
              "      <td>1.354999</td>\n",
              "      <td>3.45</td>\n",
              "    </tr>\n",
              "    <tr>\n",
              "      <th>32</th>\n",
              "      <td>Biarritz</td>\n",
              "      <td>43.471144</td>\n",
              "      <td>-1.552727</td>\n",
              "      <td>5.91</td>\n",
              "    </tr>\n",
              "    <tr>\n",
              "      <th>33</th>\n",
              "      <td>Bayonne</td>\n",
              "      <td>43.494514</td>\n",
              "      <td>-1.473666</td>\n",
              "      <td>5.94</td>\n",
              "    </tr>\n",
              "    <tr>\n",
              "      <th>34</th>\n",
              "      <td>La Rochelle</td>\n",
              "      <td>46.159113</td>\n",
              "      <td>-1.152043</td>\n",
              "      <td>5.26</td>\n",
              "    </tr>\n",
              "  </tbody>\n",
              "</table>\n",
              "</div>"
            ],
            "text/plain": [
              "                            city   lat_city  lon_city  sum_pop\n",
              "0              Mont Saint Michel  48.635954 -1.511460    10.91\n",
              "1                        St Malo  48.649518 -2.026041    11.93\n",
              "2                         Bayeux  49.276462 -0.702474     8.61\n",
              "3                       Le Havre  49.493898  0.107973     8.40\n",
              "4                          Rouen  49.440459  1.093966     7.78\n",
              "5                          Paris  48.858890  2.320041     6.07\n",
              "6                         Amiens  49.894171  2.295695     6.41\n",
              "7                          Lille  50.636565  3.063528     6.43\n",
              "8                     Strasbourg  48.584614  7.750713     5.36\n",
              "9   Chateau du Haut Koenigsbourg  48.249490  7.344296     5.97\n",
              "10                        Colmar  48.077752  7.357964     6.56\n",
              "11                     Eguisheim  48.044797  7.307962     6.61\n",
              "12                      Besancon  47.238022  6.024362     7.15\n",
              "13                         Dijon  47.321581  5.041470     3.63\n",
              "14                        Annecy  45.899235  6.128885     9.12\n",
              "15                      Grenoble  45.187560  5.735782     8.02\n",
              "16                          Lyon  45.757814  4.832011     6.47\n",
              "17              Gorges du Verdon  43.749656  6.328562     3.47\n",
              "18            Bormes les Mimosas  43.150697  6.341928     4.43\n",
              "19                        Cassis  43.214036  5.539632     2.72\n",
              "20                     Marseille  43.296174  5.369953     2.46\n",
              "21               Aix en Provence  43.529842  5.447474     2.82\n",
              "22                       Avignon  43.949249  4.805901     2.88\n",
              "23                          Uzes  44.012128  4.419672     6.13\n",
              "24                         Nimes  43.837425  4.360069     5.77\n",
              "25                 Aigues Mortes  43.565823  4.191284     7.25\n",
              "26      Saintes Maries de la mer  43.452277  4.428717     5.65\n",
              "27                     Collioure  42.525050  3.083155     4.53\n",
              "28                   Carcassonne  43.213036  2.349107     3.56\n",
              "29                        Ariege  42.945537  1.406554     4.11\n",
              "30                      Toulouse  43.604462  1.444247     3.86\n",
              "31                     Montauban  44.017584  1.354999     3.45\n",
              "32                      Biarritz  43.471144 -1.552727     5.91\n",
              "33                       Bayonne  43.494514 -1.473666     5.94\n",
              "34                   La Rochelle  46.159113 -1.152043     5.26"
            ]
          },
          "execution_count": 3,
          "metadata": {},
          "output_type": "execute_result"
        }
      ],
      "source": [
        "meteo_list = []\n",
        "for city in cities:\n",
        "    city_requests = requests.get(f'https://nominatim.openstreetmap.org/?q={city}&countrycodes=FR&format=json')\n",
        "    lat_city = float(city_requests.json()[0]['lat'])\n",
        "    lon_city = float(city_requests.json()[0]['lon'])\n",
        "    weather_forecast = requests.get(f'https://api.openweathermap.org/data/2.5/forecast?lat={lat_city}&lon={lon_city}&appid=683cc49f15c0d348d32dde05c7f62442&units=metric')\n",
        "    sum_pop = sum([weather_forecast.json()['list'][i]['pop'] for i in range(40)])\n",
        "    meteo_list.append([city,lat_city,lon_city,sum_pop])\n",
        "\n",
        "meteo_df = pd.DataFrame(meteo_list, columns=['city','lat_city','lon_city','sum_pop'])\n",
        "meteo_df"
      ]
    },
    {
      "cell_type": "markdown",
      "metadata": {
        "id": "NOfxq67EFTkE"
      },
      "source": [
        "## 🗺️ Creating a weather map of France"
      ]
    },
    {
      "cell_type": "code",
      "execution_count": null,
      "metadata": {
        "id": "EfQjCs64FTkG",
        "outputId": "df5ba9f2-d706-4bd3-bd78-c21414d0e45e"
      },
      "outputs": [
        {
          "data": {
            "application/vnd.plotly.v1+json": {
              "config": {
                "plotlyServerURL": "https://plot.ly"
              },
              "data": [
                {
                  "hovertemplate": "<b>%{hovertext}</b><br><br>sum_pop=%{marker.color}<br>lat_city=%{lat}<br>lon_city=%{lon}<extra></extra>",
                  "hovertext": [
                    "Mont Saint Michel",
                    "St Malo",
                    "Bayeux",
                    "Le Havre",
                    "Rouen",
                    "Paris",
                    "Amiens",
                    "Lille",
                    "Strasbourg",
                    "Chateau du Haut Koenigsbourg",
                    "Colmar",
                    "Eguisheim",
                    "Besancon",
                    "Dijon",
                    "Annecy",
                    "Grenoble",
                    "Lyon",
                    "Gorges du Verdon",
                    "Bormes les Mimosas",
                    "Cassis",
                    "Marseille",
                    "Aix en Provence",
                    "Avignon",
                    "Uzes",
                    "Nimes",
                    "Aigues Mortes",
                    "Saintes Maries de la mer",
                    "Collioure",
                    "Carcassonne",
                    "Ariege",
                    "Toulouse",
                    "Montauban",
                    "Biarritz",
                    "Bayonne",
                    "La Rochelle"
                  ],
                  "lat": [
                    48.6359541,
                    48.649518,
                    49.2764624,
                    49.4938975,
                    49.4404591,
                    48.8588897,
                    49.8941708,
                    50.6365654,
                    48.584614,
                    48.249489800000006,
                    48.0777517,
                    48.0447968,
                    47.2380222,
                    47.3215806,
                    45.8992348,
                    45.1875602,
                    45.7578137,
                    43.7496562,
                    43.1506968,
                    43.2140359,
                    43.2961743,
                    43.5298424,
                    43.9492493,
                    44.0121279,
                    43.8374249,
                    43.5658225,
                    43.4522771,
                    42.52505,
                    43.2130358,
                    42.9455368,
                    43.6044622,
                    44.0175835,
                    43.471143749999996,
                    43.4945144,
                    46.1591126
                  ],
                  "legendgroup": "",
                  "lon": [
                    -1.511459954959514,
                    -2.0260409,
                    -0.7024738,
                    0.1079732,
                    1.0939658,
                    2.3200410217200766,
                    2.2956951,
                    3.0635282,
                    7.7507127,
                    7.34429620253195,
                    7.3579641,
                    7.3079618,
                    6.0243622,
                    5.0414701,
                    6.1288847,
                    5.7357819,
                    4.8320114,
                    6.3285616,
                    6.3419285,
                    5.5396318,
                    5.3699525,
                    5.4474738,
                    4.8059012,
                    4.4196718,
                    4.3600687,
                    4.1912837,
                    4.4287172,
                    3.0831554,
                    2.3491069,
                    1.4065544156065486,
                    1.4442469,
                    1.3549991,
                    -1.552726590666314,
                    -1.4736657,
                    -1.1520434
                  ],
                  "marker": {
                    "color": [
                      10.910000000000002,
                      11.929999999999996,
                      8.61,
                      8.4,
                      7.78,
                      6.07,
                      6.41,
                      6.430000000000001,
                      5.3599999999999985,
                      5.970000000000001,
                      6.559999999999999,
                      6.609999999999999,
                      7.150000000000001,
                      3.63,
                      9.119999999999997,
                      8.02,
                      6.47,
                      3.4699999999999998,
                      4.43,
                      2.7199999999999998,
                      2.4600000000000004,
                      2.8199999999999994,
                      2.88,
                      6.130000000000001,
                      5.769999999999999,
                      7.250000000000001,
                      5.649999999999999,
                      4.53,
                      3.559999999999999,
                      4.11,
                      3.8600000000000003,
                      3.45,
                      5.909999999999999,
                      5.94,
                      5.26
                    ],
                    "coloraxis": "coloraxis",
                    "size": [
                      10.910000000000002,
                      11.929999999999996,
                      8.61,
                      8.4,
                      7.78,
                      6.07,
                      6.41,
                      6.430000000000001,
                      5.3599999999999985,
                      5.970000000000001,
                      6.559999999999999,
                      6.609999999999999,
                      7.150000000000001,
                      3.63,
                      9.119999999999997,
                      8.02,
                      6.47,
                      3.4699999999999998,
                      4.43,
                      2.7199999999999998,
                      2.4600000000000004,
                      2.8199999999999994,
                      2.88,
                      6.130000000000001,
                      5.769999999999999,
                      7.250000000000001,
                      5.649999999999999,
                      4.53,
                      3.559999999999999,
                      4.11,
                      3.8600000000000003,
                      3.45,
                      5.909999999999999,
                      5.94,
                      5.26
                    ],
                    "sizemode": "area",
                    "sizeref": 0.02982499999999999
                  },
                  "mode": "markers",
                  "name": "",
                  "showlegend": false,
                  "subplot": "mapbox",
                  "type": "scattermapbox"
                }
              ],
              "layout": {
                "coloraxis": {
                  "colorbar": {
                    "title": {
                      "text": "sum_pop"
                    }
                  },
                  "colorscale": [
                    [
                      0,
                      "rgb(247,251,255)"
                    ],
                    [
                      0.125,
                      "rgb(222,235,247)"
                    ],
                    [
                      0.25,
                      "rgb(198,219,239)"
                    ],
                    [
                      0.375,
                      "rgb(158,202,225)"
                    ],
                    [
                      0.5,
                      "rgb(107,174,214)"
                    ],
                    [
                      0.625,
                      "rgb(66,146,198)"
                    ],
                    [
                      0.75,
                      "rgb(33,113,181)"
                    ],
                    [
                      0.875,
                      "rgb(8,81,156)"
                    ],
                    [
                      1,
                      "rgb(8,48,107)"
                    ]
                  ]
                },
                "legend": {
                  "itemsizing": "constant",
                  "tracegroupgap": 0
                },
                "mapbox": {
                  "center": {
                    "lat": 47,
                    "lon": 2
                  },
                  "domain": {
                    "x": [
                      0,
                      1
                    ],
                    "y": [
                      0,
                      1
                    ]
                  },
                  "style": "stamen-toner",
                  "zoom": 4.5
                },
                "margin": {
                  "b": 0,
                  "l": 380,
                  "r": 380,
                  "t": 0
                },
                "template": {
                  "data": {
                    "bar": [
                      {
                        "error_x": {
                          "color": "#2a3f5f"
                        },
                        "error_y": {
                          "color": "#2a3f5f"
                        },
                        "marker": {
                          "line": {
                            "color": "#E5ECF6",
                            "width": 0.5
                          },
                          "pattern": {
                            "fillmode": "overlay",
                            "size": 10,
                            "solidity": 0.2
                          }
                        },
                        "type": "bar"
                      }
                    ],
                    "barpolar": [
                      {
                        "marker": {
                          "line": {
                            "color": "#E5ECF6",
                            "width": 0.5
                          },
                          "pattern": {
                            "fillmode": "overlay",
                            "size": 10,
                            "solidity": 0.2
                          }
                        },
                        "type": "barpolar"
                      }
                    ],
                    "carpet": [
                      {
                        "aaxis": {
                          "endlinecolor": "#2a3f5f",
                          "gridcolor": "white",
                          "linecolor": "white",
                          "minorgridcolor": "white",
                          "startlinecolor": "#2a3f5f"
                        },
                        "baxis": {
                          "endlinecolor": "#2a3f5f",
                          "gridcolor": "white",
                          "linecolor": "white",
                          "minorgridcolor": "white",
                          "startlinecolor": "#2a3f5f"
                        },
                        "type": "carpet"
                      }
                    ],
                    "choropleth": [
                      {
                        "colorbar": {
                          "outlinewidth": 0,
                          "ticks": ""
                        },
                        "type": "choropleth"
                      }
                    ],
                    "contour": [
                      {
                        "colorbar": {
                          "outlinewidth": 0,
                          "ticks": ""
                        },
                        "colorscale": [
                          [
                            0,
                            "#0d0887"
                          ],
                          [
                            0.1111111111111111,
                            "#46039f"
                          ],
                          [
                            0.2222222222222222,
                            "#7201a8"
                          ],
                          [
                            0.3333333333333333,
                            "#9c179e"
                          ],
                          [
                            0.4444444444444444,
                            "#bd3786"
                          ],
                          [
                            0.5555555555555556,
                            "#d8576b"
                          ],
                          [
                            0.6666666666666666,
                            "#ed7953"
                          ],
                          [
                            0.7777777777777778,
                            "#fb9f3a"
                          ],
                          [
                            0.8888888888888888,
                            "#fdca26"
                          ],
                          [
                            1,
                            "#f0f921"
                          ]
                        ],
                        "type": "contour"
                      }
                    ],
                    "contourcarpet": [
                      {
                        "colorbar": {
                          "outlinewidth": 0,
                          "ticks": ""
                        },
                        "type": "contourcarpet"
                      }
                    ],
                    "heatmap": [
                      {
                        "colorbar": {
                          "outlinewidth": 0,
                          "ticks": ""
                        },
                        "colorscale": [
                          [
                            0,
                            "#0d0887"
                          ],
                          [
                            0.1111111111111111,
                            "#46039f"
                          ],
                          [
                            0.2222222222222222,
                            "#7201a8"
                          ],
                          [
                            0.3333333333333333,
                            "#9c179e"
                          ],
                          [
                            0.4444444444444444,
                            "#bd3786"
                          ],
                          [
                            0.5555555555555556,
                            "#d8576b"
                          ],
                          [
                            0.6666666666666666,
                            "#ed7953"
                          ],
                          [
                            0.7777777777777778,
                            "#fb9f3a"
                          ],
                          [
                            0.8888888888888888,
                            "#fdca26"
                          ],
                          [
                            1,
                            "#f0f921"
                          ]
                        ],
                        "type": "heatmap"
                      }
                    ],
                    "heatmapgl": [
                      {
                        "colorbar": {
                          "outlinewidth": 0,
                          "ticks": ""
                        },
                        "colorscale": [
                          [
                            0,
                            "#0d0887"
                          ],
                          [
                            0.1111111111111111,
                            "#46039f"
                          ],
                          [
                            0.2222222222222222,
                            "#7201a8"
                          ],
                          [
                            0.3333333333333333,
                            "#9c179e"
                          ],
                          [
                            0.4444444444444444,
                            "#bd3786"
                          ],
                          [
                            0.5555555555555556,
                            "#d8576b"
                          ],
                          [
                            0.6666666666666666,
                            "#ed7953"
                          ],
                          [
                            0.7777777777777778,
                            "#fb9f3a"
                          ],
                          [
                            0.8888888888888888,
                            "#fdca26"
                          ],
                          [
                            1,
                            "#f0f921"
                          ]
                        ],
                        "type": "heatmapgl"
                      }
                    ],
                    "histogram": [
                      {
                        "marker": {
                          "pattern": {
                            "fillmode": "overlay",
                            "size": 10,
                            "solidity": 0.2
                          }
                        },
                        "type": "histogram"
                      }
                    ],
                    "histogram2d": [
                      {
                        "colorbar": {
                          "outlinewidth": 0,
                          "ticks": ""
                        },
                        "colorscale": [
                          [
                            0,
                            "#0d0887"
                          ],
                          [
                            0.1111111111111111,
                            "#46039f"
                          ],
                          [
                            0.2222222222222222,
                            "#7201a8"
                          ],
                          [
                            0.3333333333333333,
                            "#9c179e"
                          ],
                          [
                            0.4444444444444444,
                            "#bd3786"
                          ],
                          [
                            0.5555555555555556,
                            "#d8576b"
                          ],
                          [
                            0.6666666666666666,
                            "#ed7953"
                          ],
                          [
                            0.7777777777777778,
                            "#fb9f3a"
                          ],
                          [
                            0.8888888888888888,
                            "#fdca26"
                          ],
                          [
                            1,
                            "#f0f921"
                          ]
                        ],
                        "type": "histogram2d"
                      }
                    ],
                    "histogram2dcontour": [
                      {
                        "colorbar": {
                          "outlinewidth": 0,
                          "ticks": ""
                        },
                        "colorscale": [
                          [
                            0,
                            "#0d0887"
                          ],
                          [
                            0.1111111111111111,
                            "#46039f"
                          ],
                          [
                            0.2222222222222222,
                            "#7201a8"
                          ],
                          [
                            0.3333333333333333,
                            "#9c179e"
                          ],
                          [
                            0.4444444444444444,
                            "#bd3786"
                          ],
                          [
                            0.5555555555555556,
                            "#d8576b"
                          ],
                          [
                            0.6666666666666666,
                            "#ed7953"
                          ],
                          [
                            0.7777777777777778,
                            "#fb9f3a"
                          ],
                          [
                            0.8888888888888888,
                            "#fdca26"
                          ],
                          [
                            1,
                            "#f0f921"
                          ]
                        ],
                        "type": "histogram2dcontour"
                      }
                    ],
                    "mesh3d": [
                      {
                        "colorbar": {
                          "outlinewidth": 0,
                          "ticks": ""
                        },
                        "type": "mesh3d"
                      }
                    ],
                    "parcoords": [
                      {
                        "line": {
                          "colorbar": {
                            "outlinewidth": 0,
                            "ticks": ""
                          }
                        },
                        "type": "parcoords"
                      }
                    ],
                    "pie": [
                      {
                        "automargin": true,
                        "type": "pie"
                      }
                    ],
                    "scatter": [
                      {
                        "fillpattern": {
                          "fillmode": "overlay",
                          "size": 10,
                          "solidity": 0.2
                        },
                        "type": "scatter"
                      }
                    ],
                    "scatter3d": [
                      {
                        "line": {
                          "colorbar": {
                            "outlinewidth": 0,
                            "ticks": ""
                          }
                        },
                        "marker": {
                          "colorbar": {
                            "outlinewidth": 0,
                            "ticks": ""
                          }
                        },
                        "type": "scatter3d"
                      }
                    ],
                    "scattercarpet": [
                      {
                        "marker": {
                          "colorbar": {
                            "outlinewidth": 0,
                            "ticks": ""
                          }
                        },
                        "type": "scattercarpet"
                      }
                    ],
                    "scattergeo": [
                      {
                        "marker": {
                          "colorbar": {
                            "outlinewidth": 0,
                            "ticks": ""
                          }
                        },
                        "type": "scattergeo"
                      }
                    ],
                    "scattergl": [
                      {
                        "marker": {
                          "colorbar": {
                            "outlinewidth": 0,
                            "ticks": ""
                          }
                        },
                        "type": "scattergl"
                      }
                    ],
                    "scattermapbox": [
                      {
                        "marker": {
                          "colorbar": {
                            "outlinewidth": 0,
                            "ticks": ""
                          }
                        },
                        "type": "scattermapbox"
                      }
                    ],
                    "scatterpolar": [
                      {
                        "marker": {
                          "colorbar": {
                            "outlinewidth": 0,
                            "ticks": ""
                          }
                        },
                        "type": "scatterpolar"
                      }
                    ],
                    "scatterpolargl": [
                      {
                        "marker": {
                          "colorbar": {
                            "outlinewidth": 0,
                            "ticks": ""
                          }
                        },
                        "type": "scatterpolargl"
                      }
                    ],
                    "scatterternary": [
                      {
                        "marker": {
                          "colorbar": {
                            "outlinewidth": 0,
                            "ticks": ""
                          }
                        },
                        "type": "scatterternary"
                      }
                    ],
                    "surface": [
                      {
                        "colorbar": {
                          "outlinewidth": 0,
                          "ticks": ""
                        },
                        "colorscale": [
                          [
                            0,
                            "#0d0887"
                          ],
                          [
                            0.1111111111111111,
                            "#46039f"
                          ],
                          [
                            0.2222222222222222,
                            "#7201a8"
                          ],
                          [
                            0.3333333333333333,
                            "#9c179e"
                          ],
                          [
                            0.4444444444444444,
                            "#bd3786"
                          ],
                          [
                            0.5555555555555556,
                            "#d8576b"
                          ],
                          [
                            0.6666666666666666,
                            "#ed7953"
                          ],
                          [
                            0.7777777777777778,
                            "#fb9f3a"
                          ],
                          [
                            0.8888888888888888,
                            "#fdca26"
                          ],
                          [
                            1,
                            "#f0f921"
                          ]
                        ],
                        "type": "surface"
                      }
                    ],
                    "table": [
                      {
                        "cells": {
                          "fill": {
                            "color": "#EBF0F8"
                          },
                          "line": {
                            "color": "white"
                          }
                        },
                        "header": {
                          "fill": {
                            "color": "#C8D4E3"
                          },
                          "line": {
                            "color": "white"
                          }
                        },
                        "type": "table"
                      }
                    ]
                  },
                  "layout": {
                    "annotationdefaults": {
                      "arrowcolor": "#2a3f5f",
                      "arrowhead": 0,
                      "arrowwidth": 1
                    },
                    "autotypenumbers": "strict",
                    "coloraxis": {
                      "colorbar": {
                        "outlinewidth": 0,
                        "ticks": ""
                      }
                    },
                    "colorscale": {
                      "diverging": [
                        [
                          0,
                          "#8e0152"
                        ],
                        [
                          0.1,
                          "#c51b7d"
                        ],
                        [
                          0.2,
                          "#de77ae"
                        ],
                        [
                          0.3,
                          "#f1b6da"
                        ],
                        [
                          0.4,
                          "#fde0ef"
                        ],
                        [
                          0.5,
                          "#f7f7f7"
                        ],
                        [
                          0.6,
                          "#e6f5d0"
                        ],
                        [
                          0.7,
                          "#b8e186"
                        ],
                        [
                          0.8,
                          "#7fbc41"
                        ],
                        [
                          0.9,
                          "#4d9221"
                        ],
                        [
                          1,
                          "#276419"
                        ]
                      ],
                      "sequential": [
                        [
                          0,
                          "#0d0887"
                        ],
                        [
                          0.1111111111111111,
                          "#46039f"
                        ],
                        [
                          0.2222222222222222,
                          "#7201a8"
                        ],
                        [
                          0.3333333333333333,
                          "#9c179e"
                        ],
                        [
                          0.4444444444444444,
                          "#bd3786"
                        ],
                        [
                          0.5555555555555556,
                          "#d8576b"
                        ],
                        [
                          0.6666666666666666,
                          "#ed7953"
                        ],
                        [
                          0.7777777777777778,
                          "#fb9f3a"
                        ],
                        [
                          0.8888888888888888,
                          "#fdca26"
                        ],
                        [
                          1,
                          "#f0f921"
                        ]
                      ],
                      "sequentialminus": [
                        [
                          0,
                          "#0d0887"
                        ],
                        [
                          0.1111111111111111,
                          "#46039f"
                        ],
                        [
                          0.2222222222222222,
                          "#7201a8"
                        ],
                        [
                          0.3333333333333333,
                          "#9c179e"
                        ],
                        [
                          0.4444444444444444,
                          "#bd3786"
                        ],
                        [
                          0.5555555555555556,
                          "#d8576b"
                        ],
                        [
                          0.6666666666666666,
                          "#ed7953"
                        ],
                        [
                          0.7777777777777778,
                          "#fb9f3a"
                        ],
                        [
                          0.8888888888888888,
                          "#fdca26"
                        ],
                        [
                          1,
                          "#f0f921"
                        ]
                      ]
                    },
                    "colorway": [
                      "#636efa",
                      "#EF553B",
                      "#00cc96",
                      "#ab63fa",
                      "#FFA15A",
                      "#19d3f3",
                      "#FF6692",
                      "#B6E880",
                      "#FF97FF",
                      "#FECB52"
                    ],
                    "font": {
                      "color": "#2a3f5f"
                    },
                    "geo": {
                      "bgcolor": "white",
                      "lakecolor": "white",
                      "landcolor": "#E5ECF6",
                      "showlakes": true,
                      "showland": true,
                      "subunitcolor": "white"
                    },
                    "hoverlabel": {
                      "align": "left"
                    },
                    "hovermode": "closest",
                    "mapbox": {
                      "style": "light"
                    },
                    "paper_bgcolor": "white",
                    "plot_bgcolor": "#E5ECF6",
                    "polar": {
                      "angularaxis": {
                        "gridcolor": "white",
                        "linecolor": "white",
                        "ticks": ""
                      },
                      "bgcolor": "#E5ECF6",
                      "radialaxis": {
                        "gridcolor": "white",
                        "linecolor": "white",
                        "ticks": ""
                      }
                    },
                    "scene": {
                      "xaxis": {
                        "backgroundcolor": "#E5ECF6",
                        "gridcolor": "white",
                        "gridwidth": 2,
                        "linecolor": "white",
                        "showbackground": true,
                        "ticks": "",
                        "zerolinecolor": "white"
                      },
                      "yaxis": {
                        "backgroundcolor": "#E5ECF6",
                        "gridcolor": "white",
                        "gridwidth": 2,
                        "linecolor": "white",
                        "showbackground": true,
                        "ticks": "",
                        "zerolinecolor": "white"
                      },
                      "zaxis": {
                        "backgroundcolor": "#E5ECF6",
                        "gridcolor": "white",
                        "gridwidth": 2,
                        "linecolor": "white",
                        "showbackground": true,
                        "ticks": "",
                        "zerolinecolor": "white"
                      }
                    },
                    "shapedefaults": {
                      "line": {
                        "color": "#2a3f5f"
                      }
                    },
                    "ternary": {
                      "aaxis": {
                        "gridcolor": "white",
                        "linecolor": "white",
                        "ticks": ""
                      },
                      "baxis": {
                        "gridcolor": "white",
                        "linecolor": "white",
                        "ticks": ""
                      },
                      "bgcolor": "#E5ECF6",
                      "caxis": {
                        "gridcolor": "white",
                        "linecolor": "white",
                        "ticks": ""
                      }
                    },
                    "title": {
                      "x": 0.05
                    },
                    "xaxis": {
                      "automargin": true,
                      "gridcolor": "white",
                      "linecolor": "white",
                      "ticks": "",
                      "title": {
                        "standoff": 15
                      },
                      "zerolinecolor": "white",
                      "zerolinewidth": 2
                    },
                    "yaxis": {
                      "automargin": true,
                      "gridcolor": "white",
                      "linecolor": "white",
                      "ticks": "",
                      "title": {
                        "standoff": 15
                      },
                      "zerolinecolor": "white",
                      "zerolinewidth": 2
                    }
                  }
                },
                "title": {
                  "text": "Précipitations à prévoir"
                }
              }
            }
          },
          "metadata": {},
          "output_type": "display_data"
        }
      ],
      "source": [
        "import plotly.express as px\n",
        "fig = px.scatter_mapbox(meteo_df, lat=\"lat_city\", lon=\"lon_city\", color=\"sum_pop\", center=dict( lat=47, lon=-0.8), zoom=4, hover_name=\"city\", size=\"sum_pop\", mapbox_style=\"stamen-toner\", color_continuous_scale=\"Blues\")\n",
        "fig.update_layout(\n",
        "        title_text = 'Précipitations à prévoir',\n",
        "        mapbox={\"center\": {\"lon\": 2, \"lat\" : 47}, \"zoom\": 4.5},\n",
        "        margin={\"l\": 380, \"r\": 380, \"b\": 0, \"t\": 0}\n",
        "        )\n",
        "    \n",
        "fig.show()"
      ]
    },
    {
      "cell_type": "code",
      "execution_count": null,
      "metadata": {
        "id": "UbnVpDNVFTkI",
        "outputId": "aeb2223f-1993-4f8f-f2bd-f489f02c79c6"
      },
      "outputs": [
        {
          "name": "stdout",
          "output_type": "stream",
          "text": [
            "Les cinq villes où il pleuvra le moins dans les cinq prochains jours sont : Marseille, Cassis, Aix en Provence, Avignon et Montauban.\n"
          ]
        }
      ],
      "source": [
        "best_cities = meteo_df.groupby('city')['sum_pop'].mean().sort_values().index\n",
        "print(f'Les cinq villes où il pleuvra le moins dans les cinq prochains jours sont : {best_cities[0]}, {best_cities[1]}, {best_cities[2]}, {best_cities[3]} et {best_cities[4]}.')"
      ]
    },
    {
      "cell_type": "markdown",
      "metadata": {
        "id": "fapKhxgdFTkK"
      },
      "source": [
        "## 🏨 Scrape Booking.com"
      ]
    },
    {
      "cell_type": "code",
      "execution_count": null,
      "metadata": {
        "id": "acrOMFEjFTkL",
        "outputId": "412232a7-e0e9-4d7c-a7cd-c8aad4afe3f0"
      },
      "outputs": [
        {
          "name": "stderr",
          "output_type": "stream",
          "text": [
            "2022-12-15 13:29:07 [scrapy.utils.log] INFO: Scrapy 2.7.0 started (bot: scrapybot)\n",
            "2022-12-15 13:29:07 [scrapy.utils.log] INFO: Versions: lxml 4.9.1.0, libxml2 2.9.12, cssselect 1.1.0, parsel 1.6.0, w3lib 2.0.1, Twisted 22.8.0, Python 3.10.8 (tags/v3.10.8:aaaf517, Oct 11 2022, 16:50:30) [MSC v.1933 64 bit (AMD64)], pyOpenSSL 22.1.0 (OpenSSL 3.0.5 5 Jul 2022), cryptography 38.0.1, Platform Windows-10-10.0.19044-SP0\n",
            "2022-12-15 13:29:07 [scrapy.crawler] INFO: Overridden settings:\n",
            "{'LOG_LEVEL': 20, 'USER_AGENT': 'Chrome/97.0'}\n",
            "2022-12-15 13:29:08 [scrapy.extensions.telnet] INFO: Telnet Password: bb6ae1e37f7bbc46\n",
            "2022-12-15 13:29:09 [scrapy.middleware] INFO: Enabled extensions:\n",
            "['scrapy.extensions.corestats.CoreStats',\n",
            " 'scrapy.extensions.telnet.TelnetConsole',\n",
            " 'scrapy.extensions.feedexport.FeedExporter',\n",
            " 'scrapy.extensions.logstats.LogStats']\n",
            "2022-12-15 13:29:12 [scrapy.middleware] INFO: Enabled downloader middlewares:\n",
            "['scrapy.downloadermiddlewares.httpauth.HttpAuthMiddleware',\n",
            " 'scrapy.downloadermiddlewares.downloadtimeout.DownloadTimeoutMiddleware',\n",
            " 'scrapy.downloadermiddlewares.defaultheaders.DefaultHeadersMiddleware',\n",
            " 'scrapy.downloadermiddlewares.useragent.UserAgentMiddleware',\n",
            " 'scrapy.downloadermiddlewares.retry.RetryMiddleware',\n",
            " 'scrapy.downloadermiddlewares.redirect.MetaRefreshMiddleware',\n",
            " 'scrapy.downloadermiddlewares.httpcompression.HttpCompressionMiddleware',\n",
            " 'scrapy.downloadermiddlewares.redirect.RedirectMiddleware',\n",
            " 'scrapy.downloadermiddlewares.cookies.CookiesMiddleware',\n",
            " 'scrapy.downloadermiddlewares.httpproxy.HttpProxyMiddleware',\n",
            " 'scrapy.downloadermiddlewares.stats.DownloaderStats']\n",
            "2022-12-15 13:29:12 [scrapy.middleware] INFO: Enabled spider middlewares:\n",
            "['scrapy.spidermiddlewares.httperror.HttpErrorMiddleware',\n",
            " 'scrapy.spidermiddlewares.offsite.OffsiteMiddleware',\n",
            " 'scrapy.spidermiddlewares.referer.RefererMiddleware',\n",
            " 'scrapy.spidermiddlewares.urllength.UrlLengthMiddleware',\n",
            " 'scrapy.spidermiddlewares.depth.DepthMiddleware']\n",
            "2022-12-15 13:29:12 [scrapy.middleware] INFO: Enabled item pipelines:\n",
            "[]\n",
            "2022-12-15 13:29:12 [scrapy.core.engine] INFO: Spider opened\n",
            "2022-12-15 13:29:21 [scrapy.extensions.logstats] INFO: Crawled 0 pages (at 0 pages/min), scraped 0 items (at 0 items/min)\n",
            "2022-12-15 13:29:21 [scrapy.extensions.telnet] INFO: Telnet console listening on 127.0.0.1:6023\n",
            "2022-12-15 13:30:21 [scrapy.extensions.logstats] INFO: Crawled 75 pages (at 75 pages/min), scraped 51 items (at 51 items/min)\n",
            "2022-12-15 13:31:23 [scrapy.extensions.logstats] INFO: Crawled 106 pages (at 31 pages/min), scraped 80 items (at 29 items/min)\n",
            "2022-12-15 13:32:24 [scrapy.extensions.logstats] INFO: Crawled 153 pages (at 47 pages/min), scraped 132 items (at 52 items/min)\n",
            "2022-12-15 13:33:22 [scrapy.extensions.logstats] INFO: Crawled 201 pages (at 48 pages/min), scraped 178 items (at 46 items/min)\n",
            "2022-12-15 13:34:30 [scrapy.extensions.logstats] INFO: Crawled 249 pages (at 48 pages/min), scraped 225 items (at 47 items/min)\n",
            "2022-12-15 13:35:22 [scrapy.extensions.logstats] INFO: Crawled 297 pages (at 48 pages/min), scraped 265 items (at 40 items/min)\n",
            "2022-12-15 13:36:27 [scrapy.extensions.logstats] INFO: Crawled 329 pages (at 32 pages/min), scraped 304 items (at 39 items/min)\n",
            "2022-12-15 13:37:25 [scrapy.extensions.logstats] INFO: Crawled 377 pages (at 48 pages/min), scraped 349 items (at 45 items/min)\n",
            "2022-12-15 13:38:22 [scrapy.extensions.logstats] INFO: Crawled 425 pages (at 48 pages/min), scraped 398 items (at 49 items/min)\n",
            "2022-12-15 13:39:21 [scrapy.extensions.logstats] INFO: Crawled 489 pages (at 64 pages/min), scraped 459 items (at 61 items/min)\n",
            "2022-12-15 13:40:24 [scrapy.extensions.logstats] INFO: Crawled 600 pages (at 111 pages/min), scraped 567 items (at 108 items/min)\n",
            "2022-12-15 13:41:21 [scrapy.extensions.logstats] INFO: Crawled 634 pages (at 34 pages/min), scraped 599 items (at 32 items/min)\n",
            "2022-12-15 13:42:21 [scrapy.extensions.logstats] INFO: Crawled 661 pages (at 27 pages/min), scraped 626 items (at 27 items/min)\n",
            "2022-12-15 13:43:33 [scrapy.extensions.logstats] INFO: Crawled 686 pages (at 25 pages/min), scraped 649 items (at 23 items/min)\n",
            "2022-12-15 13:44:24 [scrapy.extensions.logstats] INFO: Crawled 705 pages (at 19 pages/min), scraped 668 items (at 19 items/min)\n",
            "2022-12-15 13:45:24 [scrapy.extensions.logstats] INFO: Crawled 725 pages (at 20 pages/min), scraped 686 items (at 18 items/min)\n",
            "2022-12-15 13:46:09 [scrapy.core.engine] INFO: Closing spider (finished)\n",
            "2022-12-15 13:46:09 [scrapy.extensions.feedexport] INFO: Stored json feed (700 items) in: src/booking.json\n",
            "2022-12-15 13:46:09 [scrapy.statscollectors] INFO: Dumping Scrapy stats:\n",
            "{'downloader/request_bytes': 843543,\n",
            " 'downloader/request_count': 737,\n",
            " 'downloader/request_method_count/GET': 737,\n",
            " 'downloader/response_bytes': 213659344,\n",
            " 'downloader/response_count': 737,\n",
            " 'downloader/response_status_count/200': 736,\n",
            " 'downloader/response_status_count/302': 1,\n",
            " 'elapsed_time_seconds': 1008.008787,\n",
            " 'feedexport/success_count/FileFeedStorage': 1,\n",
            " 'finish_reason': 'finished',\n",
            " 'finish_time': datetime.datetime(2022, 12, 15, 12, 46, 9, 506055),\n",
            " 'httpcompression/response_bytes': 933100493,\n",
            " 'httpcompression/response_count': 736,\n",
            " 'item_scraped_count': 700,\n",
            " 'log_count/INFO': 27,\n",
            " 'request_depth_max': 2,\n",
            " 'response_received_count': 736,\n",
            " 'scheduler/dequeued': 737,\n",
            " 'scheduler/dequeued/memory': 737,\n",
            " 'scheduler/enqueued': 737,\n",
            " 'scheduler/enqueued/memory': 737,\n",
            " 'start_time': datetime.datetime(2022, 12, 15, 12, 29, 21, 497268)}\n",
            "2022-12-15 13:46:09 [scrapy.core.engine] INFO: Spider closed (finished)\n"
          ]
        }
      ],
      "source": [
        "import os \n",
        "import logging\n",
        "import scrapy\n",
        "from scrapy.crawler import CrawlerProcess\n",
        "import warnings\n",
        "warnings.simplefilter(\"ignore\")\n",
        "\n",
        "class BookingSpider(scrapy.Spider):\n",
        "    \n",
        "    name = \"booking\"\n",
        "    start_urls = ['https://www.booking.com/']\n",
        "    \n",
        "\n",
        "    def parse(self, response):\n",
        "        city_list = [\"Mont Saint Michel\", \"St Malo\", \"Bayeux\", \"Le Havre\", \"Rouen\", \"Paris\", \"Amiens\", \"Lille\", \"Strasbourg\", \"Chateau du Haut Koenigsbourg\",\n",
        "\"Colmar\", \"Eguisheim\", \"Besancon\", \"Dijon\", \"Annecy\", \"Grenoble\", \"Lyon\", \"Gorges du Verdon\", \"Bormes les Mimosas\", \"Cassis\", \"Marseille\", \"Aix en Provence\",\n",
        "\"Avignon\", \"Uzes\", \"Nimes\", \"Aigues Mortes\", \"Saintes Maries de la mer\", \"Collioure\", \"Carcassonne\", \"Ariege\", \"Toulouse\", \"Montauban\", \"Biarritz\",\n",
        "\"Bayonne\", \"La Rochelle\"]\n",
        "        for city in city_list:            \n",
        "            yield scrapy.FormRequest.from_response(\n",
        "            response,\n",
        "            formdata={'ss': city},\n",
        "            callback=self.after_search,\n",
        "            meta={'city': city}\n",
        "         )\n",
        "\n",
        "       \n",
        "    def after_search(self, response):  \n",
        "        urls = response.xpath('//*[@id=\"search_results_table\"]/div[2]/div/div/div/div[5]/div/div[1]/div[2]/div/div/div[1]/div/div[1]/div/h3/a')\n",
        "        urls = urls[0:20]      \n",
        "        for url in urls:\n",
        "            yield response.follow(url, self.parse_hotel, meta={'city': response.meta['city']})\n",
        "               \n",
        "    \n",
        "    def parse_hotel(self, response):\n",
        "        yield { 'city': response.meta['city'],             \n",
        "                'name': response.xpath('//*[@id=\"hp_hotel_name\"]/div/div/h2/text()').get(),\n",
        "                'note': response.xpath('//*[@id=\"js--hp-gallery-scorecard\"]/a/div/div/div/div/div[1]/text()').get(),\n",
        "                'loc': response.xpath('//*[@id=\"b2hotelPage\"]/script[26]/text()').get(),\n",
        "                'description': response.xpath('//*[@id=\"property_description_content\"]/p/text()').get(),\n",
        "                'url': response.request.url}\n",
        "\n",
        "filename = \"booking.json\"\n",
        "\n",
        "if filename in os.listdir('src/'):\n",
        "        os.remove('src/' + filename)\n",
        "\n",
        "\n",
        "process = CrawlerProcess(settings = {\n",
        "    'USER_AGENT': 'Chrome/97.0',\n",
        "    'LOG_LEVEL': logging.INFO,\n",
        "    \"FEEDS\": {\n",
        "        'src/' + filename : {\"format\": \"json\"},\n",
        "    }\n",
        "})\n",
        "\n",
        "\n",
        "process.crawl(BookingSpider)\n",
        "process.start()"
      ]
    },
    {
      "cell_type": "markdown",
      "metadata": {
        "id": "XrkUUPnqFTkM"
      },
      "source": [
        "### Creating a new dataframe with hotels' description"
      ]
    },
    {
      "cell_type": "code",
      "execution_count": null,
      "metadata": {
        "id": "6ecdWdSxFTkM"
      },
      "outputs": [],
      "source": [
        "hotels = json.load(open(r'C:\\Users\\PC\\Downloads\\jedha\\kayak\\src\\booking.json'))"
      ]
    },
    {
      "cell_type": "code",
      "execution_count": null,
      "metadata": {
        "id": "wNxn3PC-FTkN"
      },
      "outputs": [],
      "source": [
        "hotels_df = pd.DataFrame.from_dict(hotels)"
      ]
    },
    {
      "cell_type": "markdown",
      "metadata": {
        "id": "gfk7O020FTkO"
      },
      "source": [
        "### Merging the two dataframes"
      ]
    },
    {
      "cell_type": "code",
      "execution_count": null,
      "metadata": {
        "id": "YSWl198VFTkO"
      },
      "outputs": [],
      "source": [
        "merged_df = meteo_df.merge(hotels_df, on='city')\n",
        "merged_df.dropna(inplace=True)\n",
        "merged_df['lat_hotel'] = pd.to_numeric(merged_df['loc'].str.split('latitude = ').str[1].str.split(';').str[0])\n",
        "merged_df['lon_hotel'] = pd.to_numeric(merged_df['loc'].str.split('longitude = ').str[1].str.split(';').str[0])\n",
        "merged_df['note'] = pd.to_numeric(merged_df['note'])\n",
        "merged_df.drop('loc', axis=1, inplace=True)"
      ]
    },
    {
      "cell_type": "code",
      "execution_count": null,
      "metadata": {
        "id": "abnn8fVbFTkP",
        "outputId": "12ff1bb8-c77e-4da3-e0ea-3d42222cba91"
      },
      "outputs": [
        {
          "data": {
            "text/html": [
              "<div>\n",
              "<style scoped>\n",
              "    .dataframe tbody tr th:only-of-type {\n",
              "        vertical-align: middle;\n",
              "    }\n",
              "\n",
              "    .dataframe tbody tr th {\n",
              "        vertical-align: top;\n",
              "    }\n",
              "\n",
              "    .dataframe thead th {\n",
              "        text-align: right;\n",
              "    }\n",
              "</style>\n",
              "<table border=\"1\" class=\"dataframe\">\n",
              "  <thead>\n",
              "    <tr style=\"text-align: right;\">\n",
              "      <th></th>\n",
              "      <th>city</th>\n",
              "      <th>lat_city</th>\n",
              "      <th>lon_city</th>\n",
              "      <th>sum_pop</th>\n",
              "      <th>name</th>\n",
              "      <th>note</th>\n",
              "      <th>description</th>\n",
              "      <th>url</th>\n",
              "      <th>lat_hotel</th>\n",
              "      <th>lon_hotel</th>\n",
              "    </tr>\n",
              "  </thead>\n",
              "  <tbody>\n",
              "    <tr>\n",
              "      <th>0</th>\n",
              "      <td>Mont Saint Michel</td>\n",
              "      <td>48.635954</td>\n",
              "      <td>-1.51146</td>\n",
              "      <td>10.91</td>\n",
              "      <td>Hôtel Vert</td>\n",
              "      <td>8.0</td>\n",
              "      <td>You're eligible for a Genius discount at Hôtel...</td>\n",
              "      <td>https://www.booking.com/hotel/fr/vert.en-gb.ht...</td>\n",
              "      <td>48.614700</td>\n",
              "      <td>-1.509617</td>\n",
              "    </tr>\n",
              "    <tr>\n",
              "      <th>1</th>\n",
              "      <td>Mont Saint Michel</td>\n",
              "      <td>48.635954</td>\n",
              "      <td>-1.51146</td>\n",
              "      <td>10.91</td>\n",
              "      <td>Mercure Mont Saint Michel</td>\n",
              "      <td>8.2</td>\n",
              "      <td>This Mercure is situated in parkland just 2 km...</td>\n",
              "      <td>https://www.booking.com/hotel/fr/mont-saint-mi...</td>\n",
              "      <td>48.614247</td>\n",
              "      <td>-1.510545</td>\n",
              "    </tr>\n",
              "    <tr>\n",
              "      <th>2</th>\n",
              "      <td>Mont Saint Michel</td>\n",
              "      <td>48.635954</td>\n",
              "      <td>-1.51146</td>\n",
              "      <td>10.91</td>\n",
              "      <td>La Mère Poulard</td>\n",
              "      <td>7.0</td>\n",
              "      <td>You're eligible for a Genius discount at La Mè...</td>\n",
              "      <td>https://www.booking.com/hotel/fr/la-mere-poula...</td>\n",
              "      <td>48.635085</td>\n",
              "      <td>-1.510540</td>\n",
              "    </tr>\n",
              "    <tr>\n",
              "      <th>3</th>\n",
              "      <td>Mont Saint Michel</td>\n",
              "      <td>48.635954</td>\n",
              "      <td>-1.51146</td>\n",
              "      <td>10.91</td>\n",
              "      <td>Les Terrasses Poulard</td>\n",
              "      <td>7.3</td>\n",
              "      <td>You're eligible for a Genius discount at Les T...</td>\n",
              "      <td>https://www.booking.com/hotel/fr/les-terrasses...</td>\n",
              "      <td>48.635349</td>\n",
              "      <td>-1.510379</td>\n",
              "    </tr>\n",
              "    <tr>\n",
              "      <th>4</th>\n",
              "      <td>Mont Saint Michel</td>\n",
              "      <td>48.635954</td>\n",
              "      <td>-1.51146</td>\n",
              "      <td>10.91</td>\n",
              "      <td>Le Relais Saint Michel</td>\n",
              "      <td>7.8</td>\n",
              "      <td>You're eligible for a Genius discount at Le Re...</td>\n",
              "      <td>https://www.booking.com/hotel/fr/le-relais-sai...</td>\n",
              "      <td>48.617587</td>\n",
              "      <td>-1.510396</td>\n",
              "    </tr>\n",
              "  </tbody>\n",
              "</table>\n",
              "</div>"
            ],
            "text/plain": [
              "                city   lat_city  lon_city  sum_pop                       name  \\\n",
              "0  Mont Saint Michel  48.635954  -1.51146    10.91                 Hôtel Vert   \n",
              "1  Mont Saint Michel  48.635954  -1.51146    10.91  Mercure Mont Saint Michel   \n",
              "2  Mont Saint Michel  48.635954  -1.51146    10.91            La Mère Poulard   \n",
              "3  Mont Saint Michel  48.635954  -1.51146    10.91      Les Terrasses Poulard   \n",
              "4  Mont Saint Michel  48.635954  -1.51146    10.91     Le Relais Saint Michel   \n",
              "\n",
              "   note                                        description  \\\n",
              "0   8.0  You're eligible for a Genius discount at Hôtel...   \n",
              "1   8.2  This Mercure is situated in parkland just 2 km...   \n",
              "2   7.0  You're eligible for a Genius discount at La Mè...   \n",
              "3   7.3  You're eligible for a Genius discount at Les T...   \n",
              "4   7.8  You're eligible for a Genius discount at Le Re...   \n",
              "\n",
              "                                                 url  lat_hotel  lon_hotel  \n",
              "0  https://www.booking.com/hotel/fr/vert.en-gb.ht...  48.614700  -1.509617  \n",
              "1  https://www.booking.com/hotel/fr/mont-saint-mi...  48.614247  -1.510545  \n",
              "2  https://www.booking.com/hotel/fr/la-mere-poula...  48.635085  -1.510540  \n",
              "3  https://www.booking.com/hotel/fr/les-terrasses...  48.635349  -1.510379  \n",
              "4  https://www.booking.com/hotel/fr/le-relais-sai...  48.617587  -1.510396  "
            ]
          },
          "execution_count": 11,
          "metadata": {},
          "output_type": "execute_result"
        }
      ],
      "source": [
        "merged_df.head()"
      ]
    },
    {
      "cell_type": "markdown",
      "metadata": {
        "id": "WxQjMGwIFTkQ"
      },
      "source": [
        "## 🗺️ Creating a map of France with the best cities' hotels"
      ]
    },
    {
      "cell_type": "code",
      "execution_count": null,
      "metadata": {
        "id": "dxTAxSPEFTkQ"
      },
      "outputs": [],
      "source": [
        "best_cities_df = merged_df[merged_df['city'].isin(best_cities[0:5])]"
      ]
    },
    {
      "cell_type": "code",
      "execution_count": null,
      "metadata": {
        "id": "3cNH0yflFTkR",
        "outputId": "cb03abbc-502f-4b4a-876c-6d868966d95f"
      },
      "outputs": [
        {
          "data": {
            "application/vnd.plotly.v1+json": {
              "config": {
                "plotlyServerURL": "https://plot.ly"
              },
              "data": [
                {
                  "hovertemplate": "<b>%{hovertext}</b><br><br>note=%{marker.color}<br>lat_hotel=%{lat}<br>lon_hotel=%{lon}<extra></extra>",
                  "hovertext": [
                    "Cassis",
                    "Cassis",
                    "Cassis",
                    "Cassis",
                    "Cassis",
                    "Cassis",
                    "Cassis",
                    "Cassis",
                    "Cassis",
                    "Cassis",
                    "Cassis",
                    "Cassis",
                    "Cassis",
                    "Cassis",
                    "Cassis",
                    "Cassis",
                    "Cassis",
                    "Cassis",
                    "Cassis",
                    "Cassis",
                    "Marseille",
                    "Marseille",
                    "Marseille",
                    "Marseille",
                    "Marseille",
                    "Marseille",
                    "Marseille",
                    "Marseille",
                    "Marseille",
                    "Marseille",
                    "Marseille",
                    "Marseille",
                    "Marseille",
                    "Marseille",
                    "Marseille",
                    "Marseille",
                    "Marseille",
                    "Marseille",
                    "Aix en Provence",
                    "Aix en Provence",
                    "Aix en Provence",
                    "Aix en Provence",
                    "Aix en Provence",
                    "Aix en Provence",
                    "Aix en Provence",
                    "Aix en Provence",
                    "Aix en Provence",
                    "Aix en Provence",
                    "Aix en Provence",
                    "Aix en Provence",
                    "Aix en Provence",
                    "Aix en Provence",
                    "Aix en Provence",
                    "Aix en Provence",
                    "Aix en Provence",
                    "Aix en Provence",
                    "Aix en Provence",
                    "Aix en Provence",
                    "Avignon",
                    "Avignon",
                    "Avignon",
                    "Avignon",
                    "Avignon",
                    "Avignon",
                    "Avignon",
                    "Avignon",
                    "Avignon",
                    "Avignon",
                    "Avignon",
                    "Avignon",
                    "Avignon",
                    "Avignon",
                    "Avignon",
                    "Avignon",
                    "Avignon",
                    "Avignon",
                    "Avignon",
                    "Avignon",
                    "Montauban",
                    "Montauban",
                    "Montauban",
                    "Montauban",
                    "Montauban",
                    "Montauban",
                    "Montauban",
                    "Montauban",
                    "Montauban",
                    "Montauban",
                    "Montauban",
                    "Montauban",
                    "Montauban",
                    "Montauban",
                    "Montauban",
                    "Montauban",
                    "Montauban",
                    "Montauban",
                    "Montauban"
                  ],
                  "lat": [
                    43.21641033,
                    43.21524569,
                    43.2120018,
                    43.211712,
                    43.21521908,
                    43.22082659,
                    43.21270692,
                    43.21459857,
                    43.21703056,
                    43.21529502,
                    43.21508678,
                    43.21729234,
                    43.216905,
                    43.21589392,
                    43.210575,
                    43.215456,
                    43.21537,
                    43.21407197,
                    43.21495674,
                    43.2206243,
                    43.30272424,
                    43.304229,
                    43.29412372,
                    43.300097,
                    43.30020105,
                    43.2994029,
                    43.301105,
                    43.29681825,
                    43.29443608,
                    43.3007918,
                    43.25250432,
                    43.29654954,
                    43.29155323,
                    43.29858167,
                    43.29297191,
                    43.29591581,
                    43.29594971,
                    43.2505303,
                    43.52490233,
                    43.52697234,
                    43.52624048,
                    43.53004967,
                    43.52356201,
                    43.52524078,
                    43.5285445,
                    43.5263325,
                    43.52409101,
                    43.52191762,
                    43.529989,
                    43.52636334,
                    43.5249088,
                    43.52391014,
                    43.52688664,
                    43.52461222,
                    43.51191632,
                    43.52332474,
                    43.52890621,
                    43.5312636,
                    43.94403213,
                    43.951729,
                    43.9477626,
                    43.9481658,
                    43.952055,
                    43.9499383,
                    43.94917757,
                    43.95249614,
                    43.9438081,
                    43.94362946,
                    43.9476071,
                    43.95029956,
                    43.9461414,
                    43.92623117,
                    43.950855,
                    43.9527751,
                    43.95034438,
                    43.94552496,
                    43.94989514,
                    43.9524697,
                    44.013431,
                    44.01632566,
                    44.0249418,
                    44.01542573,
                    43.98291262,
                    44.02126109,
                    44.04011965,
                    44.0207356,
                    44.02246008,
                    44.0250153,
                    44.02054293,
                    44.0223269,
                    44.01703937,
                    43.979174,
                    43.98098686,
                    44.01786547,
                    44.01324,
                    44.08944141,
                    44.01927605
                  ],
                  "legendgroup": "",
                  "lon": [
                    5.55070017,
                    5.54466784,
                    5.5276305,
                    5.5416742,
                    5.53568187,
                    5.54138513,
                    5.53025561,
                    5.53784404,
                    5.53575003,
                    5.54623054,
                    5.53094902,
                    5.53577062,
                    5.541446,
                    5.53476321,
                    5.547913,
                    5.535734,
                    5.53719,
                    5.53062182,
                    5.5357946,
                    5.540767,
                    5.37933044,
                    5.376624,
                    5.37463993,
                    5.367585,
                    5.38260245,
                    5.3668804,
                    5.371282,
                    5.37305743,
                    5.37478209,
                    5.3822154,
                    5.37930838,
                    5.39145293,
                    5.38197108,
                    5.36974624,
                    5.37986534,
                    5.37442746,
                    5.37455259,
                    5.3814817,
                    5.45054108,
                    5.44928754,
                    5.43820493,
                    5.44414669,
                    5.44593707,
                    5.441266,
                    5.42601228,
                    5.450021,
                    5.45521617,
                    5.45787156,
                    5.45096,
                    5.44695853,
                    5.45042306,
                    5.44249445,
                    5.44727147,
                    5.45375437,
                    5.43665394,
                    5.44972569,
                    5.44086903,
                    5.44507004,
                    4.80533168,
                    4.810339,
                    4.8085372,
                    4.80576485,
                    4.8054629,
                    4.8065625,
                    4.81083119,
                    4.81014222,
                    4.80494678,
                    4.81217131,
                    4.8079964,
                    4.81104354,
                    4.8130876,
                    4.78592724,
                    4.810121,
                    4.8053707,
                    4.81153785,
                    4.80576083,
                    4.81986389,
                    4.8049678,
                    1.3609724,
                    1.34083071,
                    1.3566823,
                    1.35407299,
                    1.33401543,
                    1.35113081,
                    1.3860239,
                    1.3554577,
                    1.35816604,
                    1.3567576,
                    1.34956688,
                    1.3581305,
                    1.35448361,
                    1.309142,
                    1.38958597,
                    1.35385925,
                    1.344591,
                    1.34851889,
                    1.36155604
                  ],
                  "marker": {
                    "color": [
                      7.4,
                      9.5,
                      9.7,
                      10,
                      9.6,
                      9.1,
                      9.1,
                      8.7,
                      8.2,
                      7.7,
                      9,
                      8.5,
                      9.1,
                      7.7,
                      8,
                      9.4,
                      8.2,
                      8.5,
                      8.1,
                      8.6,
                      7.8,
                      7.8,
                      8.4,
                      7.9,
                      8.3,
                      7.7,
                      8.4,
                      7.3,
                      8.3,
                      7.5,
                      8.7,
                      8.7,
                      7.1,
                      8.3,
                      8.3,
                      9,
                      8.7,
                      9,
                      8.8,
                      9.1,
                      8.2,
                      8.2,
                      8.1,
                      8,
                      7.1,
                      7.6,
                      6.9,
                      8.3,
                      9.1,
                      8.3,
                      8.2,
                      8.1,
                      8.1,
                      7.8,
                      7.3,
                      7.8,
                      8.4,
                      8.4,
                      7.9,
                      8.3,
                      8.5,
                      8.4,
                      9,
                      9.8,
                      8.6,
                      9.1,
                      7.6,
                      8.3,
                      9.5,
                      9.6,
                      8.3,
                      7.6,
                      9,
                      9,
                      8.8,
                      7.9,
                      7.8,
                      8.8,
                      9.1,
                      8,
                      7.9,
                      8.3,
                      5.1,
                      8.3,
                      7.7,
                      9,
                      6.9,
                      10,
                      8.2,
                      9.3,
                      8.6,
                      9.3,
                      8.9,
                      9.6,
                      9.2,
                      8.7,
                      7.3
                    ],
                    "coloraxis": "coloraxis",
                    "size": [
                      7.4,
                      9.5,
                      9.7,
                      10,
                      9.6,
                      9.1,
                      9.1,
                      8.7,
                      8.2,
                      7.7,
                      9,
                      8.5,
                      9.1,
                      7.7,
                      8,
                      9.4,
                      8.2,
                      8.5,
                      8.1,
                      8.6,
                      7.8,
                      7.8,
                      8.4,
                      7.9,
                      8.3,
                      7.7,
                      8.4,
                      7.3,
                      8.3,
                      7.5,
                      8.7,
                      8.7,
                      7.1,
                      8.3,
                      8.3,
                      9,
                      8.7,
                      9,
                      8.8,
                      9.1,
                      8.2,
                      8.2,
                      8.1,
                      8,
                      7.1,
                      7.6,
                      6.9,
                      8.3,
                      9.1,
                      8.3,
                      8.2,
                      8.1,
                      8.1,
                      7.8,
                      7.3,
                      7.8,
                      8.4,
                      8.4,
                      7.9,
                      8.3,
                      8.5,
                      8.4,
                      9,
                      9.8,
                      8.6,
                      9.1,
                      7.6,
                      8.3,
                      9.5,
                      9.6,
                      8.3,
                      7.6,
                      9,
                      9,
                      8.8,
                      7.9,
                      7.8,
                      8.8,
                      9.1,
                      8,
                      7.9,
                      8.3,
                      5.1,
                      8.3,
                      7.7,
                      9,
                      6.9,
                      10,
                      8.2,
                      9.3,
                      8.6,
                      9.3,
                      8.9,
                      9.6,
                      9.2,
                      8.7,
                      7.3
                    ],
                    "sizemode": "area",
                    "sizeref": 0.025
                  },
                  "mode": "markers",
                  "name": "",
                  "showlegend": false,
                  "subplot": "mapbox",
                  "type": "scattermapbox"
                }
              ],
              "layout": {
                "coloraxis": {
                  "colorbar": {
                    "title": {
                      "text": "note"
                    }
                  },
                  "colorscale": [
                    [
                      0,
                      "rgb(255,245,240)"
                    ],
                    [
                      0.125,
                      "rgb(254,224,210)"
                    ],
                    [
                      0.25,
                      "rgb(252,187,161)"
                    ],
                    [
                      0.375,
                      "rgb(252,146,114)"
                    ],
                    [
                      0.5,
                      "rgb(251,106,74)"
                    ],
                    [
                      0.625,
                      "rgb(239,59,44)"
                    ],
                    [
                      0.75,
                      "rgb(203,24,29)"
                    ],
                    [
                      0.875,
                      "rgb(165,15,21)"
                    ],
                    [
                      1,
                      "rgb(103,0,13)"
                    ]
                  ]
                },
                "legend": {
                  "itemsizing": "constant",
                  "tracegroupgap": 0
                },
                "mapbox": {
                  "center": {
                    "lat": 47,
                    "lon": 2
                  },
                  "domain": {
                    "x": [
                      0,
                      1
                    ],
                    "y": [
                      0,
                      1
                    ]
                  },
                  "style": "stamen-toner",
                  "zoom": 4.5
                },
                "margin": {
                  "b": 0,
                  "l": 280,
                  "r": 280,
                  "t": 0
                },
                "template": {
                  "data": {
                    "bar": [
                      {
                        "error_x": {
                          "color": "#2a3f5f"
                        },
                        "error_y": {
                          "color": "#2a3f5f"
                        },
                        "marker": {
                          "line": {
                            "color": "#E5ECF6",
                            "width": 0.5
                          },
                          "pattern": {
                            "fillmode": "overlay",
                            "size": 10,
                            "solidity": 0.2
                          }
                        },
                        "type": "bar"
                      }
                    ],
                    "barpolar": [
                      {
                        "marker": {
                          "line": {
                            "color": "#E5ECF6",
                            "width": 0.5
                          },
                          "pattern": {
                            "fillmode": "overlay",
                            "size": 10,
                            "solidity": 0.2
                          }
                        },
                        "type": "barpolar"
                      }
                    ],
                    "carpet": [
                      {
                        "aaxis": {
                          "endlinecolor": "#2a3f5f",
                          "gridcolor": "white",
                          "linecolor": "white",
                          "minorgridcolor": "white",
                          "startlinecolor": "#2a3f5f"
                        },
                        "baxis": {
                          "endlinecolor": "#2a3f5f",
                          "gridcolor": "white",
                          "linecolor": "white",
                          "minorgridcolor": "white",
                          "startlinecolor": "#2a3f5f"
                        },
                        "type": "carpet"
                      }
                    ],
                    "choropleth": [
                      {
                        "colorbar": {
                          "outlinewidth": 0,
                          "ticks": ""
                        },
                        "type": "choropleth"
                      }
                    ],
                    "contour": [
                      {
                        "colorbar": {
                          "outlinewidth": 0,
                          "ticks": ""
                        },
                        "colorscale": [
                          [
                            0,
                            "#0d0887"
                          ],
                          [
                            0.1111111111111111,
                            "#46039f"
                          ],
                          [
                            0.2222222222222222,
                            "#7201a8"
                          ],
                          [
                            0.3333333333333333,
                            "#9c179e"
                          ],
                          [
                            0.4444444444444444,
                            "#bd3786"
                          ],
                          [
                            0.5555555555555556,
                            "#d8576b"
                          ],
                          [
                            0.6666666666666666,
                            "#ed7953"
                          ],
                          [
                            0.7777777777777778,
                            "#fb9f3a"
                          ],
                          [
                            0.8888888888888888,
                            "#fdca26"
                          ],
                          [
                            1,
                            "#f0f921"
                          ]
                        ],
                        "type": "contour"
                      }
                    ],
                    "contourcarpet": [
                      {
                        "colorbar": {
                          "outlinewidth": 0,
                          "ticks": ""
                        },
                        "type": "contourcarpet"
                      }
                    ],
                    "heatmap": [
                      {
                        "colorbar": {
                          "outlinewidth": 0,
                          "ticks": ""
                        },
                        "colorscale": [
                          [
                            0,
                            "#0d0887"
                          ],
                          [
                            0.1111111111111111,
                            "#46039f"
                          ],
                          [
                            0.2222222222222222,
                            "#7201a8"
                          ],
                          [
                            0.3333333333333333,
                            "#9c179e"
                          ],
                          [
                            0.4444444444444444,
                            "#bd3786"
                          ],
                          [
                            0.5555555555555556,
                            "#d8576b"
                          ],
                          [
                            0.6666666666666666,
                            "#ed7953"
                          ],
                          [
                            0.7777777777777778,
                            "#fb9f3a"
                          ],
                          [
                            0.8888888888888888,
                            "#fdca26"
                          ],
                          [
                            1,
                            "#f0f921"
                          ]
                        ],
                        "type": "heatmap"
                      }
                    ],
                    "heatmapgl": [
                      {
                        "colorbar": {
                          "outlinewidth": 0,
                          "ticks": ""
                        },
                        "colorscale": [
                          [
                            0,
                            "#0d0887"
                          ],
                          [
                            0.1111111111111111,
                            "#46039f"
                          ],
                          [
                            0.2222222222222222,
                            "#7201a8"
                          ],
                          [
                            0.3333333333333333,
                            "#9c179e"
                          ],
                          [
                            0.4444444444444444,
                            "#bd3786"
                          ],
                          [
                            0.5555555555555556,
                            "#d8576b"
                          ],
                          [
                            0.6666666666666666,
                            "#ed7953"
                          ],
                          [
                            0.7777777777777778,
                            "#fb9f3a"
                          ],
                          [
                            0.8888888888888888,
                            "#fdca26"
                          ],
                          [
                            1,
                            "#f0f921"
                          ]
                        ],
                        "type": "heatmapgl"
                      }
                    ],
                    "histogram": [
                      {
                        "marker": {
                          "pattern": {
                            "fillmode": "overlay",
                            "size": 10,
                            "solidity": 0.2
                          }
                        },
                        "type": "histogram"
                      }
                    ],
                    "histogram2d": [
                      {
                        "colorbar": {
                          "outlinewidth": 0,
                          "ticks": ""
                        },
                        "colorscale": [
                          [
                            0,
                            "#0d0887"
                          ],
                          [
                            0.1111111111111111,
                            "#46039f"
                          ],
                          [
                            0.2222222222222222,
                            "#7201a8"
                          ],
                          [
                            0.3333333333333333,
                            "#9c179e"
                          ],
                          [
                            0.4444444444444444,
                            "#bd3786"
                          ],
                          [
                            0.5555555555555556,
                            "#d8576b"
                          ],
                          [
                            0.6666666666666666,
                            "#ed7953"
                          ],
                          [
                            0.7777777777777778,
                            "#fb9f3a"
                          ],
                          [
                            0.8888888888888888,
                            "#fdca26"
                          ],
                          [
                            1,
                            "#f0f921"
                          ]
                        ],
                        "type": "histogram2d"
                      }
                    ],
                    "histogram2dcontour": [
                      {
                        "colorbar": {
                          "outlinewidth": 0,
                          "ticks": ""
                        },
                        "colorscale": [
                          [
                            0,
                            "#0d0887"
                          ],
                          [
                            0.1111111111111111,
                            "#46039f"
                          ],
                          [
                            0.2222222222222222,
                            "#7201a8"
                          ],
                          [
                            0.3333333333333333,
                            "#9c179e"
                          ],
                          [
                            0.4444444444444444,
                            "#bd3786"
                          ],
                          [
                            0.5555555555555556,
                            "#d8576b"
                          ],
                          [
                            0.6666666666666666,
                            "#ed7953"
                          ],
                          [
                            0.7777777777777778,
                            "#fb9f3a"
                          ],
                          [
                            0.8888888888888888,
                            "#fdca26"
                          ],
                          [
                            1,
                            "#f0f921"
                          ]
                        ],
                        "type": "histogram2dcontour"
                      }
                    ],
                    "mesh3d": [
                      {
                        "colorbar": {
                          "outlinewidth": 0,
                          "ticks": ""
                        },
                        "type": "mesh3d"
                      }
                    ],
                    "parcoords": [
                      {
                        "line": {
                          "colorbar": {
                            "outlinewidth": 0,
                            "ticks": ""
                          }
                        },
                        "type": "parcoords"
                      }
                    ],
                    "pie": [
                      {
                        "automargin": true,
                        "type": "pie"
                      }
                    ],
                    "scatter": [
                      {
                        "fillpattern": {
                          "fillmode": "overlay",
                          "size": 10,
                          "solidity": 0.2
                        },
                        "type": "scatter"
                      }
                    ],
                    "scatter3d": [
                      {
                        "line": {
                          "colorbar": {
                            "outlinewidth": 0,
                            "ticks": ""
                          }
                        },
                        "marker": {
                          "colorbar": {
                            "outlinewidth": 0,
                            "ticks": ""
                          }
                        },
                        "type": "scatter3d"
                      }
                    ],
                    "scattercarpet": [
                      {
                        "marker": {
                          "colorbar": {
                            "outlinewidth": 0,
                            "ticks": ""
                          }
                        },
                        "type": "scattercarpet"
                      }
                    ],
                    "scattergeo": [
                      {
                        "marker": {
                          "colorbar": {
                            "outlinewidth": 0,
                            "ticks": ""
                          }
                        },
                        "type": "scattergeo"
                      }
                    ],
                    "scattergl": [
                      {
                        "marker": {
                          "colorbar": {
                            "outlinewidth": 0,
                            "ticks": ""
                          }
                        },
                        "type": "scattergl"
                      }
                    ],
                    "scattermapbox": [
                      {
                        "marker": {
                          "colorbar": {
                            "outlinewidth": 0,
                            "ticks": ""
                          }
                        },
                        "type": "scattermapbox"
                      }
                    ],
                    "scatterpolar": [
                      {
                        "marker": {
                          "colorbar": {
                            "outlinewidth": 0,
                            "ticks": ""
                          }
                        },
                        "type": "scatterpolar"
                      }
                    ],
                    "scatterpolargl": [
                      {
                        "marker": {
                          "colorbar": {
                            "outlinewidth": 0,
                            "ticks": ""
                          }
                        },
                        "type": "scatterpolargl"
                      }
                    ],
                    "scatterternary": [
                      {
                        "marker": {
                          "colorbar": {
                            "outlinewidth": 0,
                            "ticks": ""
                          }
                        },
                        "type": "scatterternary"
                      }
                    ],
                    "surface": [
                      {
                        "colorbar": {
                          "outlinewidth": 0,
                          "ticks": ""
                        },
                        "colorscale": [
                          [
                            0,
                            "#0d0887"
                          ],
                          [
                            0.1111111111111111,
                            "#46039f"
                          ],
                          [
                            0.2222222222222222,
                            "#7201a8"
                          ],
                          [
                            0.3333333333333333,
                            "#9c179e"
                          ],
                          [
                            0.4444444444444444,
                            "#bd3786"
                          ],
                          [
                            0.5555555555555556,
                            "#d8576b"
                          ],
                          [
                            0.6666666666666666,
                            "#ed7953"
                          ],
                          [
                            0.7777777777777778,
                            "#fb9f3a"
                          ],
                          [
                            0.8888888888888888,
                            "#fdca26"
                          ],
                          [
                            1,
                            "#f0f921"
                          ]
                        ],
                        "type": "surface"
                      }
                    ],
                    "table": [
                      {
                        "cells": {
                          "fill": {
                            "color": "#EBF0F8"
                          },
                          "line": {
                            "color": "white"
                          }
                        },
                        "header": {
                          "fill": {
                            "color": "#C8D4E3"
                          },
                          "line": {
                            "color": "white"
                          }
                        },
                        "type": "table"
                      }
                    ]
                  },
                  "layout": {
                    "annotationdefaults": {
                      "arrowcolor": "#2a3f5f",
                      "arrowhead": 0,
                      "arrowwidth": 1
                    },
                    "autotypenumbers": "strict",
                    "coloraxis": {
                      "colorbar": {
                        "outlinewidth": 0,
                        "ticks": ""
                      }
                    },
                    "colorscale": {
                      "diverging": [
                        [
                          0,
                          "#8e0152"
                        ],
                        [
                          0.1,
                          "#c51b7d"
                        ],
                        [
                          0.2,
                          "#de77ae"
                        ],
                        [
                          0.3,
                          "#f1b6da"
                        ],
                        [
                          0.4,
                          "#fde0ef"
                        ],
                        [
                          0.5,
                          "#f7f7f7"
                        ],
                        [
                          0.6,
                          "#e6f5d0"
                        ],
                        [
                          0.7,
                          "#b8e186"
                        ],
                        [
                          0.8,
                          "#7fbc41"
                        ],
                        [
                          0.9,
                          "#4d9221"
                        ],
                        [
                          1,
                          "#276419"
                        ]
                      ],
                      "sequential": [
                        [
                          0,
                          "#0d0887"
                        ],
                        [
                          0.1111111111111111,
                          "#46039f"
                        ],
                        [
                          0.2222222222222222,
                          "#7201a8"
                        ],
                        [
                          0.3333333333333333,
                          "#9c179e"
                        ],
                        [
                          0.4444444444444444,
                          "#bd3786"
                        ],
                        [
                          0.5555555555555556,
                          "#d8576b"
                        ],
                        [
                          0.6666666666666666,
                          "#ed7953"
                        ],
                        [
                          0.7777777777777778,
                          "#fb9f3a"
                        ],
                        [
                          0.8888888888888888,
                          "#fdca26"
                        ],
                        [
                          1,
                          "#f0f921"
                        ]
                      ],
                      "sequentialminus": [
                        [
                          0,
                          "#0d0887"
                        ],
                        [
                          0.1111111111111111,
                          "#46039f"
                        ],
                        [
                          0.2222222222222222,
                          "#7201a8"
                        ],
                        [
                          0.3333333333333333,
                          "#9c179e"
                        ],
                        [
                          0.4444444444444444,
                          "#bd3786"
                        ],
                        [
                          0.5555555555555556,
                          "#d8576b"
                        ],
                        [
                          0.6666666666666666,
                          "#ed7953"
                        ],
                        [
                          0.7777777777777778,
                          "#fb9f3a"
                        ],
                        [
                          0.8888888888888888,
                          "#fdca26"
                        ],
                        [
                          1,
                          "#f0f921"
                        ]
                      ]
                    },
                    "colorway": [
                      "#636efa",
                      "#EF553B",
                      "#00cc96",
                      "#ab63fa",
                      "#FFA15A",
                      "#19d3f3",
                      "#FF6692",
                      "#B6E880",
                      "#FF97FF",
                      "#FECB52"
                    ],
                    "font": {
                      "color": "#2a3f5f"
                    },
                    "geo": {
                      "bgcolor": "white",
                      "lakecolor": "white",
                      "landcolor": "#E5ECF6",
                      "showlakes": true,
                      "showland": true,
                      "subunitcolor": "white"
                    },
                    "hoverlabel": {
                      "align": "left"
                    },
                    "hovermode": "closest",
                    "mapbox": {
                      "style": "light"
                    },
                    "paper_bgcolor": "white",
                    "plot_bgcolor": "#E5ECF6",
                    "polar": {
                      "angularaxis": {
                        "gridcolor": "white",
                        "linecolor": "white",
                        "ticks": ""
                      },
                      "bgcolor": "#E5ECF6",
                      "radialaxis": {
                        "gridcolor": "white",
                        "linecolor": "white",
                        "ticks": ""
                      }
                    },
                    "scene": {
                      "xaxis": {
                        "backgroundcolor": "#E5ECF6",
                        "gridcolor": "white",
                        "gridwidth": 2,
                        "linecolor": "white",
                        "showbackground": true,
                        "ticks": "",
                        "zerolinecolor": "white"
                      },
                      "yaxis": {
                        "backgroundcolor": "#E5ECF6",
                        "gridcolor": "white",
                        "gridwidth": 2,
                        "linecolor": "white",
                        "showbackground": true,
                        "ticks": "",
                        "zerolinecolor": "white"
                      },
                      "zaxis": {
                        "backgroundcolor": "#E5ECF6",
                        "gridcolor": "white",
                        "gridwidth": 2,
                        "linecolor": "white",
                        "showbackground": true,
                        "ticks": "",
                        "zerolinecolor": "white"
                      }
                    },
                    "shapedefaults": {
                      "line": {
                        "color": "#2a3f5f"
                      }
                    },
                    "ternary": {
                      "aaxis": {
                        "gridcolor": "white",
                        "linecolor": "white",
                        "ticks": ""
                      },
                      "baxis": {
                        "gridcolor": "white",
                        "linecolor": "white",
                        "ticks": ""
                      },
                      "bgcolor": "#E5ECF6",
                      "caxis": {
                        "gridcolor": "white",
                        "linecolor": "white",
                        "ticks": ""
                      }
                    },
                    "title": {
                      "x": 0.05
                    },
                    "xaxis": {
                      "automargin": true,
                      "gridcolor": "white",
                      "linecolor": "white",
                      "ticks": "",
                      "title": {
                        "standoff": 15
                      },
                      "zerolinecolor": "white",
                      "zerolinewidth": 2
                    },
                    "yaxis": {
                      "automargin": true,
                      "gridcolor": "white",
                      "linecolor": "white",
                      "ticks": "",
                      "title": {
                        "standoff": 15
                      },
                      "zerolinecolor": "white",
                      "zerolinewidth": 2
                    }
                  }
                },
                "title": {
                  "text": "Précipitations à prévoir"
                }
              }
            }
          },
          "metadata": {},
          "output_type": "display_data"
        }
      ],
      "source": [
        "import plotly.express as px\n",
        "fig = px.scatter_mapbox(best_cities_df, lat=\"lat_hotel\", lon=\"lon_hotel\", color=\"note\", center=dict( lat=47, lon=-0.8), zoom=4, hover_name=\"city\", size=\"note\", mapbox_style=\"stamen-toner\", color_continuous_scale=\"Reds\")\n",
        "fig.update_layout(\n",
        "        title_text = 'Précipitations à prévoir',\n",
        "        mapbox={\"center\": {\"lon\": 2, \"lat\" : 47}, \"zoom\": 4.5},\n",
        "        margin={\"l\": 280, \"r\": 280, \"b\": 0, \"t\": 0}\n",
        "        )\n",
        "    \n",
        "fig.show()"
      ]
    },
    {
      "cell_type": "markdown",
      "metadata": {
        "id": "az22Ql7jFTkS"
      },
      "source": [
        "## ☁️ Creating our data lake using S3"
      ]
    },
    {
      "cell_type": "code",
      "execution_count": null,
      "metadata": {
        "id": "SGZk24A1FTkT",
        "outputId": "a41dcdd3-de9b-4a12-c2e9-30b19a1f011a"
      },
      "outputs": [
        {
          "name": "stderr",
          "output_type": "stream",
          "text": [
            "\n",
            "[notice] A new release of pip available: 22.2.2 -> 22.3.1\n",
            "[notice] To update, run: python.exe -m pip install --upgrade pip\n"
          ]
        }
      ],
      "source": [
        "!pip install Boto3 -q"
      ]
    },
    {
      "cell_type": "code",
      "execution_count": null,
      "metadata": {
        "id": "VXMZzEa7FTkT"
      },
      "outputs": [],
      "source": [
        "import boto3\n",
        "session = boto3.Session(aws_access_key_id=\"XXXXXX\", \n",
        "                        aws_secret_access_key=\"XXXXXX\")"
      ]
    },
    {
      "cell_type": "code",
      "execution_count": null,
      "metadata": {
        "id": "MLlozFtIFTkU"
      },
      "outputs": [],
      "source": [
        "s3 = session.resource(\"s3\")"
      ]
    },
    {
      "cell_type": "code",
      "execution_count": null,
      "metadata": {
        "id": "3lNgzb4QFTkV"
      },
      "outputs": [],
      "source": [
        "bucket = s3.create_bucket(Bucket=\"bucket-for-kayak-marie-jedha\")"
      ]
    },
    {
      "cell_type": "code",
      "execution_count": null,
      "metadata": {
        "id": "2K3qhqI5FTkV"
      },
      "outputs": [],
      "source": [
        "csv = merged_df.to_csv(index=False)"
      ]
    },
    {
      "cell_type": "code",
      "execution_count": null,
      "metadata": {
        "id": "DKsuTdC6FTkW"
      },
      "outputs": [],
      "source": [
        "put_object = bucket.put_object(Key='merged_df.csv', Body=csv)"
      ]
    },
    {
      "cell_type": "markdown",
      "metadata": {
        "id": "-Sa_a43-FTkW"
      },
      "source": [
        "## 🧹 ETL "
      ]
    },
    {
      "cell_type": "code",
      "execution_count": null,
      "metadata": {
        "id": "q4HAHOOtFTkX",
        "outputId": "c3207414-65e7-4fce-df9e-aeef6d71c182"
      },
      "outputs": [
        {
          "name": "stderr",
          "output_type": "stream",
          "text": [
            "\n",
            "[notice] A new release of pip available: 22.2.2 -> 22.3.1\n",
            "[notice] To update, run: python.exe -m pip install --upgrade pip\n",
            "\n",
            "[notice] A new release of pip available: 22.2.2 -> 22.3.1\n",
            "[notice] To update, run: python.exe -m pip install --upgrade pip\n"
          ]
        }
      ],
      "source": [
        "!pip install pymysql -q\n",
        "!pip install psycopg2-binary -q"
      ]
    },
    {
      "cell_type": "code",
      "execution_count": null,
      "metadata": {
        "id": "q-VPIvUJFTkY"
      },
      "outputs": [],
      "source": [
        "from sqlalchemy import create_engine, text\n",
        "from sqlalchemy.orm import sessionmaker"
      ]
    },
    {
      "cell_type": "code",
      "execution_count": null,
      "metadata": {
        "id": "yBK3layrFTkZ"
      },
      "outputs": [],
      "source": [
        "DBHOST = \"kayak.cllpvnkjlqgv.us-east-1.rds.amazonaws.com\"\n",
        "DBUSER = \"XXXXXX\" \n",
        "DBPASS = \"XXXXXX\"\n",
        "DBNAME = \"postgres\"\n",
        "PORT = \"5432\""
      ]
    },
    {
      "cell_type": "code",
      "execution_count": null,
      "metadata": {
        "id": "ANu8jwmyFTka"
      },
      "outputs": [],
      "source": [
        "engine = create_engine(f\"postgresql+psycopg2://{DBUSER}:{DBPASS}@{DBHOST}/{DBNAME}\", echo=True)"
      ]
    },
    {
      "cell_type": "code",
      "execution_count": null,
      "metadata": {
        "id": "3Hv0igyIFTka"
      },
      "outputs": [],
      "source": [
        "Session = sessionmaker(bind = engine)\n",
        "session = Session()"
      ]
    },
    {
      "cell_type": "code",
      "execution_count": null,
      "metadata": {
        "id": "gDSWK9tOFTkb",
        "outputId": "3925557a-c782-49e8-b815-f4d95f4d6e83"
      },
      "outputs": [
        {
          "name": "stderr",
          "output_type": "stream",
          "text": [
            "\n",
            "KeyboardInterrupt\n",
            "\n"
          ]
        }
      ],
      "source": [
        "merged_df.to_sql(\"kayak_sql\", engine)\n",
        "# I didn't manage this final part of the project. I think there's somathing wrong about the security groups of my RDS instance but I didn't find the right parameters"
      ]
    }
  ],
  "metadata": {
    "kernelspec": {
      "display_name": "Python 3.10.8 64-bit",
      "language": "python",
      "name": "python3"
    },
    "language_info": {
      "codemirror_mode": {
        "name": "ipython",
        "version": 3
      },
      "file_extension": ".py",
      "mimetype": "text/x-python",
      "name": "python",
      "nbconvert_exporter": "python",
      "pygments_lexer": "ipython3",
      "version": "3.10.8"
    },
    "orig_nbformat": 4,
    "vscode": {
      "interpreter": {
        "hash": "e593ac106456af50ce7af38f9671c411b49d6cd90f9b885e167f0f594e09038c"
      }
    },
    "colab": {
      "provenance": []
    }
  },
  "nbformat": 4,
  "nbformat_minor": 0
}